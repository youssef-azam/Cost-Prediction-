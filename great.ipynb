{
 "cells": [
  {
   "cell_type": "code",
   "execution_count": 183,
   "id": "b61e14c0",
   "metadata": {},
   "outputs": [],
   "source": [
    "import pandas as pd \n",
    "import numpy as np\n",
    "import matplotlib.pyplot as plt\n",
    "plt.style.use('seaborn')\n",
    "import seaborn as sns"
   ]
  },
  {
   "cell_type": "code",
   "execution_count": 124,
   "id": "a3b1503a",
   "metadata": {},
   "outputs": [
    {
     "data": {
      "text/html": [
       "<div>\n",
       "<style scoped>\n",
       "    .dataframe tbody tr th:only-of-type {\n",
       "        vertical-align: middle;\n",
       "    }\n",
       "\n",
       "    .dataframe tbody tr th {\n",
       "        vertical-align: top;\n",
       "    }\n",
       "\n",
       "    .dataframe thead th {\n",
       "        text-align: right;\n",
       "    }\n",
       "</style>\n",
       "<table border=\"1\" class=\"dataframe\">\n",
       "  <thead>\n",
       "    <tr style=\"text-align: right;\">\n",
       "      <th></th>\n",
       "      <th>food_category</th>\n",
       "      <th>food_department</th>\n",
       "      <th>food_family</th>\n",
       "      <th>store_sales(in millions)</th>\n",
       "      <th>store_cost(in millions)</th>\n",
       "      <th>unit_sales(in millions)</th>\n",
       "      <th>promotion_name</th>\n",
       "      <th>sales_country</th>\n",
       "      <th>marital_status</th>\n",
       "      <th>gender</th>\n",
       "      <th>...</th>\n",
       "      <th>grocery_sqft</th>\n",
       "      <th>frozen_sqft</th>\n",
       "      <th>meat_sqft</th>\n",
       "      <th>coffee_bar</th>\n",
       "      <th>video_store</th>\n",
       "      <th>salad_bar</th>\n",
       "      <th>prepared_food</th>\n",
       "      <th>florist</th>\n",
       "      <th>media_type</th>\n",
       "      <th>cost</th>\n",
       "    </tr>\n",
       "  </thead>\n",
       "  <tbody>\n",
       "    <tr>\n",
       "      <th>0</th>\n",
       "      <td>Breakfast Foods</td>\n",
       "      <td>Frozen Foods</td>\n",
       "      <td>Food</td>\n",
       "      <td>7.36</td>\n",
       "      <td>2.7232</td>\n",
       "      <td>4.0</td>\n",
       "      <td>Bag Stuffers</td>\n",
       "      <td>USA</td>\n",
       "      <td>M</td>\n",
       "      <td>F</td>\n",
       "      <td>...</td>\n",
       "      <td>18670.0</td>\n",
       "      <td>5415.0</td>\n",
       "      <td>3610.0</td>\n",
       "      <td>1.0</td>\n",
       "      <td>1.0</td>\n",
       "      <td>1.0</td>\n",
       "      <td>1.0</td>\n",
       "      <td>1.0</td>\n",
       "      <td>Daily Paper, Radio</td>\n",
       "      <td>126.62</td>\n",
       "    </tr>\n",
       "    <tr>\n",
       "      <th>1</th>\n",
       "      <td>Breakfast Foods</td>\n",
       "      <td>Frozen Foods</td>\n",
       "      <td>Food</td>\n",
       "      <td>5.52</td>\n",
       "      <td>2.5944</td>\n",
       "      <td>3.0</td>\n",
       "      <td>Cash Register Lottery</td>\n",
       "      <td>USA</td>\n",
       "      <td>M</td>\n",
       "      <td>M</td>\n",
       "      <td>...</td>\n",
       "      <td>18670.0</td>\n",
       "      <td>5415.0</td>\n",
       "      <td>3610.0</td>\n",
       "      <td>1.0</td>\n",
       "      <td>1.0</td>\n",
       "      <td>1.0</td>\n",
       "      <td>1.0</td>\n",
       "      <td>1.0</td>\n",
       "      <td>Daily Paper, Radio</td>\n",
       "      <td>59.86</td>\n",
       "    </tr>\n",
       "    <tr>\n",
       "      <th>2</th>\n",
       "      <td>Breakfast Foods</td>\n",
       "      <td>Frozen Foods</td>\n",
       "      <td>Food</td>\n",
       "      <td>3.68</td>\n",
       "      <td>1.3616</td>\n",
       "      <td>2.0</td>\n",
       "      <td>High Roller Savings</td>\n",
       "      <td>USA</td>\n",
       "      <td>S</td>\n",
       "      <td>F</td>\n",
       "      <td>...</td>\n",
       "      <td>18670.0</td>\n",
       "      <td>5415.0</td>\n",
       "      <td>3610.0</td>\n",
       "      <td>1.0</td>\n",
       "      <td>1.0</td>\n",
       "      <td>1.0</td>\n",
       "      <td>1.0</td>\n",
       "      <td>1.0</td>\n",
       "      <td>Daily Paper, Radio</td>\n",
       "      <td>84.16</td>\n",
       "    </tr>\n",
       "    <tr>\n",
       "      <th>3</th>\n",
       "      <td>Breakfast Foods</td>\n",
       "      <td>Frozen Foods</td>\n",
       "      <td>Food</td>\n",
       "      <td>3.68</td>\n",
       "      <td>1.1776</td>\n",
       "      <td>2.0</td>\n",
       "      <td>Cash Register Lottery</td>\n",
       "      <td>USA</td>\n",
       "      <td>M</td>\n",
       "      <td>F</td>\n",
       "      <td>...</td>\n",
       "      <td>18670.0</td>\n",
       "      <td>5415.0</td>\n",
       "      <td>3610.0</td>\n",
       "      <td>1.0</td>\n",
       "      <td>1.0</td>\n",
       "      <td>1.0</td>\n",
       "      <td>1.0</td>\n",
       "      <td>1.0</td>\n",
       "      <td>In-Store Coupon</td>\n",
       "      <td>95.78</td>\n",
       "    </tr>\n",
       "    <tr>\n",
       "      <th>4</th>\n",
       "      <td>Breakfast Foods</td>\n",
       "      <td>Frozen Foods</td>\n",
       "      <td>Food</td>\n",
       "      <td>4.08</td>\n",
       "      <td>1.4280</td>\n",
       "      <td>3.0</td>\n",
       "      <td>Double Down Sale</td>\n",
       "      <td>USA</td>\n",
       "      <td>M</td>\n",
       "      <td>M</td>\n",
       "      <td>...</td>\n",
       "      <td>18670.0</td>\n",
       "      <td>5415.0</td>\n",
       "      <td>3610.0</td>\n",
       "      <td>1.0</td>\n",
       "      <td>1.0</td>\n",
       "      <td>1.0</td>\n",
       "      <td>1.0</td>\n",
       "      <td>1.0</td>\n",
       "      <td>Radio</td>\n",
       "      <td>50.79</td>\n",
       "    </tr>\n",
       "  </tbody>\n",
       "</table>\n",
       "<p>5 rows × 40 columns</p>\n",
       "</div>"
      ],
      "text/plain": [
       "     food_category food_department food_family  store_sales(in millions)  \\\n",
       "0  Breakfast Foods    Frozen Foods        Food                      7.36   \n",
       "1  Breakfast Foods    Frozen Foods        Food                      5.52   \n",
       "2  Breakfast Foods    Frozen Foods        Food                      3.68   \n",
       "3  Breakfast Foods    Frozen Foods        Food                      3.68   \n",
       "4  Breakfast Foods    Frozen Foods        Food                      4.08   \n",
       "\n",
       "   store_cost(in millions)  unit_sales(in millions)         promotion_name  \\\n",
       "0                   2.7232                      4.0           Bag Stuffers   \n",
       "1                   2.5944                      3.0  Cash Register Lottery   \n",
       "2                   1.3616                      2.0    High Roller Savings   \n",
       "3                   1.1776                      2.0  Cash Register Lottery   \n",
       "4                   1.4280                      3.0       Double Down Sale   \n",
       "\n",
       "  sales_country marital_status gender  ...  grocery_sqft frozen_sqft  \\\n",
       "0           USA              M      F  ...       18670.0      5415.0   \n",
       "1           USA              M      M  ...       18670.0      5415.0   \n",
       "2           USA              S      F  ...       18670.0      5415.0   \n",
       "3           USA              M      F  ...       18670.0      5415.0   \n",
       "4           USA              M      M  ...       18670.0      5415.0   \n",
       "\n",
       "  meat_sqft coffee_bar video_store  salad_bar prepared_food  florist  \\\n",
       "0    3610.0        1.0         1.0        1.0           1.0      1.0   \n",
       "1    3610.0        1.0         1.0        1.0           1.0      1.0   \n",
       "2    3610.0        1.0         1.0        1.0           1.0      1.0   \n",
       "3    3610.0        1.0         1.0        1.0           1.0      1.0   \n",
       "4    3610.0        1.0         1.0        1.0           1.0      1.0   \n",
       "\n",
       "           media_type    cost  \n",
       "0  Daily Paper, Radio  126.62  \n",
       "1  Daily Paper, Radio   59.86  \n",
       "2  Daily Paper, Radio   84.16  \n",
       "3     In-Store Coupon   95.78  \n",
       "4               Radio   50.79  \n",
       "\n",
       "[5 rows x 40 columns]"
      ]
     },
     "execution_count": 124,
     "metadata": {},
     "output_type": "execute_result"
    }
   ],
   "source": [
    "df=pd.read_csv(r\"C:\\Users\\youssef azam\\Desktop\\media prediction and its cost.csv\")\n",
    "df.head()"
   ]
  },
  {
   "cell_type": "code",
   "execution_count": null,
   "id": "3dc982a1",
   "metadata": {},
   "outputs": [],
   "source": [
    "df.columns.tolist()"
   ]
  },
  {
   "cell_type": "code",
   "execution_count": 24,
   "id": "ba64ce03",
   "metadata": {},
   "outputs": [
    {
     "data": {
      "text/plain": [
       "(60428, 40)"
      ]
     },
     "execution_count": 24,
     "metadata": {},
     "output_type": "execute_result"
    }
   ],
   "source": [
    "df.shape"
   ]
  },
  {
   "cell_type": "code",
   "execution_count": 7,
   "id": "f33fcc94",
   "metadata": {},
   "outputs": [
    {
     "name": "stdout",
     "output_type": "stream",
     "text": [
      "<class 'pandas.core.frame.DataFrame'>\n",
      "RangeIndex: 60428 entries, 0 to 60427\n",
      "Data columns (total 40 columns):\n",
      " #   Column                      Non-Null Count  Dtype  \n",
      "---  ------                      --------------  -----  \n",
      " 0   food_category               60428 non-null  object \n",
      " 1   food_department             60428 non-null  object \n",
      " 2   food_family                 60428 non-null  object \n",
      " 3   store_sales(in millions)    60428 non-null  float64\n",
      " 4   store_cost(in millions)     60428 non-null  float64\n",
      " 5   unit_sales(in millions)     60428 non-null  float64\n",
      " 6   promotion_name              60428 non-null  object \n",
      " 7   sales_country               60428 non-null  object \n",
      " 8   marital_status              60428 non-null  object \n",
      " 9   gender                      60428 non-null  object \n",
      " 10  total_children              60428 non-null  float64\n",
      " 11  education                   60428 non-null  object \n",
      " 12  member_card                 60428 non-null  object \n",
      " 13  occupation                  60428 non-null  object \n",
      " 14  houseowner                  60428 non-null  object \n",
      " 15  avg_cars_at home(approx)    60428 non-null  float64\n",
      " 16  avg. yearly_income          60428 non-null  object \n",
      " 17  num_children_at_home        60428 non-null  float64\n",
      " 18  avg_cars_at home(approx).1  60428 non-null  float64\n",
      " 19  brand_name                  60428 non-null  object \n",
      " 20  SRP                         60428 non-null  float64\n",
      " 21  gross_weight                60428 non-null  float64\n",
      " 22  net_weight                  60428 non-null  float64\n",
      " 23  recyclable_package          60428 non-null  float64\n",
      " 24  low_fat                     60428 non-null  float64\n",
      " 25  units_per_case              60428 non-null  float64\n",
      " 26  store_type                  60428 non-null  object \n",
      " 27  store_city                  60428 non-null  object \n",
      " 28  store_state                 60428 non-null  object \n",
      " 29  store_sqft                  60428 non-null  float64\n",
      " 30  grocery_sqft                60428 non-null  float64\n",
      " 31  frozen_sqft                 60428 non-null  float64\n",
      " 32  meat_sqft                   60428 non-null  float64\n",
      " 33  coffee_bar                  60428 non-null  float64\n",
      " 34  video_store                 60428 non-null  float64\n",
      " 35  salad_bar                   60428 non-null  float64\n",
      " 36  prepared_food               60428 non-null  float64\n",
      " 37  florist                     60428 non-null  float64\n",
      " 38  media_type                  60428 non-null  object \n",
      " 39  cost                        60428 non-null  float64\n",
      "dtypes: float64(23), object(17)\n",
      "memory usage: 18.4+ MB\n"
     ]
    }
   ],
   "source": [
    "df.info()"
   ]
  },
  {
   "cell_type": "code",
   "execution_count": 8,
   "id": "2b4c0fa9",
   "metadata": {},
   "outputs": [
    {
     "data": {
      "text/plain": [
       "food_category                 0\n",
       "food_department               0\n",
       "food_family                   0\n",
       "store_sales(in millions)      0\n",
       "store_cost(in millions)       0\n",
       "unit_sales(in millions)       0\n",
       "promotion_name                0\n",
       "sales_country                 0\n",
       "marital_status                0\n",
       "gender                        0\n",
       "total_children                0\n",
       "education                     0\n",
       "member_card                   0\n",
       "occupation                    0\n",
       "houseowner                    0\n",
       "avg_cars_at home(approx)      0\n",
       "avg. yearly_income            0\n",
       "num_children_at_home          0\n",
       "avg_cars_at home(approx).1    0\n",
       "brand_name                    0\n",
       "SRP                           0\n",
       "gross_weight                  0\n",
       "net_weight                    0\n",
       "recyclable_package            0\n",
       "low_fat                       0\n",
       "units_per_case                0\n",
       "store_type                    0\n",
       "store_city                    0\n",
       "store_state                   0\n",
       "store_sqft                    0\n",
       "grocery_sqft                  0\n",
       "frozen_sqft                   0\n",
       "meat_sqft                     0\n",
       "coffee_bar                    0\n",
       "video_store                   0\n",
       "salad_bar                     0\n",
       "prepared_food                 0\n",
       "florist                       0\n",
       "media_type                    0\n",
       "cost                          0\n",
       "dtype: int64"
      ]
     },
     "execution_count": 8,
     "metadata": {},
     "output_type": "execute_result"
    }
   ],
   "source": [
    "df.isnull().sum()"
   ]
  },
  {
   "cell_type": "code",
   "execution_count": 9,
   "id": "c0da6f4c",
   "metadata": {},
   "outputs": [
    {
     "data": {
      "text/plain": [
       "395261.3999999999"
      ]
     },
     "execution_count": 9,
     "metadata": {},
     "output_type": "execute_result"
    }
   ],
   "source": [
    "df['store_sales(in millions)'].sum()"
   ]
  },
  {
   "cell_type": "code",
   "execution_count": 10,
   "id": "e13d1cf4",
   "metadata": {},
   "outputs": [
    {
     "data": {
      "text/plain": [
       "158288.6987"
      ]
     },
     "execution_count": 10,
     "metadata": {},
     "output_type": "execute_result"
    }
   ],
   "source": [
    "df['store_cost(in millions)'].sum()"
   ]
  },
  {
   "cell_type": "code",
   "execution_count": 11,
   "id": "55e3c112",
   "metadata": {},
   "outputs": [
    {
     "data": {
      "text/plain": [
       "Vegetables              7440\n",
       "Snack Foods             6919\n",
       "Dairy                   3835\n",
       "Meat                    3107\n",
       "Fruit                   3080\n",
       "Jams and Jellies        2550\n",
       "Baking Goods            1947\n",
       "Breakfast Foods         1946\n",
       "Bread                   1797\n",
       "Canned Soup             1722\n",
       "Beer and Wine           1590\n",
       "Paper Products          1568\n",
       "Bathroom Products       1552\n",
       "Electrical              1544\n",
       "Candy                   1538\n",
       "Frozen Desserts         1446\n",
       "Specialty               1174\n",
       "Starchy Foods           1103\n",
       "Magazines                971\n",
       "Kitchen Products         969\n",
       "Eggs                     952\n",
       "Hot Beverages            891\n",
       "Hygiene                  831\n",
       "Pain Relievers           828\n",
       "Pizza                    821\n",
       "Carbonated Beverages     782\n",
       "Pure Juice Beverages     760\n",
       "Cleaning Supplies        748\n",
       "Side Dishes              601\n",
       "Frozen Entrees           595\n",
       "Drinks                   581\n",
       "Plastic Products         578\n",
       "Hardware                 575\n",
       "Cold Remedies            399\n",
       "Decongestants            396\n",
       "Canned Tuna              395\n",
       "Seafood                  375\n",
       "Canned Anchovies         213\n",
       "Canned Clams             199\n",
       "Candles                  195\n",
       "Miscellaneous            194\n",
       "Canned Oysters           189\n",
       "Canned Shrimp            182\n",
       "Packaged Vegetables      179\n",
       "Canned Sardines          171\n",
       "Name: food_category, dtype: int64"
      ]
     },
     "execution_count": 11,
     "metadata": {},
     "output_type": "execute_result"
    }
   ],
   "source": [
    "df['food_category'].value_counts()"
   ]
  },
  {
   "cell_type": "code",
   "execution_count": 12,
   "id": "2d7f49d9",
   "metadata": {},
   "outputs": [
    {
     "data": {
      "text/plain": [
       "Produce                8521\n",
       "Snack Foods            6919\n",
       "Household              6185\n",
       "Frozen Foods           6126\n",
       "Baking Goods           4497\n",
       "Canned Foods           4238\n",
       "Dairy                  3835\n",
       "Health and Hygiene     3807\n",
       "Beverages              3014\n",
       "Deli                   2787\n",
       "Baked Goods            1797\n",
       "Alcoholic Beverages    1590\n",
       "Snacks                 1538\n",
       "Starchy Foods          1103\n",
       "Periodicals             971\n",
       "Eggs                    952\n",
       "Breakfast Foods         778\n",
       "Canned Products         400\n",
       "Checkout                385\n",
       "Meat                    385\n",
       "Seafood                 375\n",
       "Carousel                225\n",
       "Name: food_department, dtype: int64"
      ]
     },
     "execution_count": 12,
     "metadata": {},
     "output_type": "execute_result"
    }
   ],
   "source": [
    "df['food_department'].value_counts()"
   ]
  },
  {
   "cell_type": "code",
   "execution_count": 13,
   "id": "c5c5b4cd",
   "metadata": {},
   "outputs": [
    {
     "data": {
      "text/plain": [
       "S    30355\n",
       "M    30073\n",
       "Name: marital_status, dtype: int64"
      ]
     },
     "execution_count": 13,
     "metadata": {},
     "output_type": "execute_result"
    }
   ],
   "source": [
    "df['marital_status'].value_counts()"
   ]
  },
  {
   "cell_type": "code",
   "execution_count": 25,
   "id": "78d6dcd0",
   "metadata": {},
   "outputs": [
    {
     "data": {
      "text/plain": [
       "Hermanos     1839\n",
       "Ebony        1729\n",
       "Tell Tale    1728\n",
       "Tri-State    1633\n",
       "High Top     1592\n",
       "             ... \n",
       "ADJ            56\n",
       "Symphony       49\n",
       "Prelude        45\n",
       "Toretti        39\n",
       "King           36\n",
       "Name: brand_name, Length: 111, dtype: int64"
      ]
     },
     "execution_count": 25,
     "metadata": {},
     "output_type": "execute_result"
    }
   ],
   "source": [
    "df['brand_name'].value_counts()"
   ]
  },
  {
   "cell_type": "code",
   "execution_count": 26,
   "id": "9b12d6d3",
   "metadata": {},
   "outputs": [
    {
     "data": {
      "text/plain": [
       "Supermarket            26192\n",
       "Deluxe Supermarket     22954\n",
       "Gourmet Supermarket     6503\n",
       "Mid-Size Grocery        2846\n",
       "Small Grocery           1933\n",
       "Name: store_type, dtype: int64"
      ]
     },
     "execution_count": 26,
     "metadata": {},
     "output_type": "execute_result"
    }
   ],
   "source": [
    "df['store_type'].value_counts()"
   ]
  },
  {
   "cell_type": "code",
   "execution_count": 27,
   "id": "3d7c8fc8",
   "metadata": {},
   "outputs": [
    {
     "data": {
      "text/plain": [
       "Tacoma           5704\n",
       "Salem            5478\n",
       "Portland         5150\n",
       "Seattle          5051\n",
       "Hidalgo          4761\n",
       "Merida           4498\n",
       "Spokane          4453\n",
       "Beverly Hills    4151\n",
       "Los Angeles      3960\n",
       "Bremerton        3451\n",
       "Vancouver        3384\n",
       "Orizaba          2621\n",
       "Camacho          2352\n",
       "Acapulco         1506\n",
       "Mexico City      1395\n",
       "San Francisco     783\n",
       "Bellingham        711\n",
       "Victoria          580\n",
       "Guadalajara       439\n",
       "Name: store_city, dtype: int64"
      ]
     },
     "execution_count": 27,
     "metadata": {},
     "output_type": "execute_result"
    }
   ],
   "source": [
    "df['store_city'].value_counts()"
   ]
  },
  {
   "cell_type": "code",
   "execution_count": 28,
   "id": "7c5cd89d",
   "metadata": {},
   "outputs": [
    {
     "data": {
      "text/plain": [
       "WA           19370\n",
       "OR           10628\n",
       "CA            8894\n",
       "Zacatecas     7113\n",
       "Yucatan       4498\n",
       "BC            3964\n",
       "Veracruz      2621\n",
       "Guerrero      1506\n",
       "DF            1395\n",
       "Jalisco        439\n",
       "Name: store_state, dtype: int64"
      ]
     },
     "execution_count": 28,
     "metadata": {},
     "output_type": "execute_result"
    }
   ],
   "source": [
    "df['store_state'].value_counts()"
   ]
  },
  {
   "cell_type": "code",
   "execution_count": null,
   "id": "7d61ad00",
   "metadata": {},
   "outputs": [],
   "source": [
    "df['gender'].value_counts()"
   ]
  },
  {
   "cell_type": "code",
   "execution_count": 17,
   "id": "72534637",
   "metadata": {},
   "outputs": [
    {
     "data": {
      "text/plain": [
       "F    30942\n",
       "M    29486\n",
       "Name: gender, dtype: int64"
      ]
     },
     "execution_count": 17,
     "metadata": {},
     "output_type": "execute_result"
    }
   ],
   "source": [
    "df['gender'].value_counts()"
   ]
  },
  {
   "cell_type": "code",
   "execution_count": 18,
   "id": "a1fcd04c",
   "metadata": {},
   "outputs": [
    {
     "data": {
      "text/plain": [
       "Food              43284\n",
       "Non-Consumable    11573\n",
       "Drink              5571\n",
       "Name: food_family, dtype: int64"
      ]
     },
     "execution_count": 18,
     "metadata": {},
     "output_type": "execute_result"
    }
   ],
   "source": [
    "df['food_family'].value_counts()"
   ]
  },
  {
   "cell_type": "code",
   "execution_count": 19,
   "id": "8a1f1f26",
   "metadata": {},
   "outputs": [
    {
     "data": {
      "text/plain": [
       "USA       38892\n",
       "Mexico    17572\n",
       "Canada     3964\n",
       "Name: sales_country, dtype: int64"
      ]
     },
     "execution_count": 19,
     "metadata": {},
     "output_type": "execute_result"
    }
   ],
   "source": [
    "df['sales_country'].value_counts()"
   ]
  },
  {
   "cell_type": "code",
   "execution_count": 20,
   "id": "9b265f32",
   "metadata": {},
   "outputs": [
    {
     "data": {
      "text/plain": [
       "Partial High School    18201\n",
       "High School Degree     17838\n",
       "Bachelors Degree       15994\n",
       "Partial College         5284\n",
       "Graduate Degree         3111\n",
       "Name: education, dtype: int64"
      ]
     },
     "execution_count": 20,
     "metadata": {},
     "output_type": "execute_result"
    }
   ],
   "source": [
    "df['education'].value_counts()"
   ]
  },
  {
   "cell_type": "code",
   "execution_count": 21,
   "id": "0594ef55",
   "metadata": {},
   "outputs": [
    {
     "data": {
      "text/plain": [
       "Bronze    33807\n",
       "Normal    13867\n",
       "Golden     7556\n",
       "Silver     5198\n",
       "Name: member_card, dtype: int64"
      ]
     },
     "execution_count": 21,
     "metadata": {},
     "output_type": "execute_result"
    }
   ],
   "source": [
    "df['member_card'].value_counts()"
   ]
  },
  {
   "cell_type": "code",
   "execution_count": 22,
   "id": "288db28f",
   "metadata": {},
   "outputs": [
    {
     "data": {
      "text/plain": [
       "Professional      19915\n",
       "Skilled Manual    15995\n",
       "Manual            14624\n",
       "Management         8805\n",
       "Clerical           1089\n",
       "Name: occupation, dtype: int64"
      ]
     },
     "execution_count": 22,
     "metadata": {},
     "output_type": "execute_result"
    }
   ],
   "source": [
    "df['occupation'].value_counts()"
   ]
  },
  {
   "cell_type": "code",
   "execution_count": 23,
   "id": "684b66e0",
   "metadata": {},
   "outputs": [
    {
     "data": {
      "text/plain": [
       "Y    36510\n",
       "N    23918\n",
       "Name: houseowner, dtype: int64"
      ]
     },
     "execution_count": 23,
     "metadata": {},
     "output_type": "execute_result"
    }
   ],
   "source": [
    "df['houseowner'].value_counts()"
   ]
  },
  {
   "cell_type": "code",
   "execution_count": 29,
   "id": "fc2838ff",
   "metadata": {},
   "outputs": [
    {
     "data": {
      "text/plain": [
       "Daily Paper, Radio         6820\n",
       "Product Attachment         5371\n",
       "Daily Paper, Radio, TV     5284\n",
       "Daily Paper                5119\n",
       "Street Handout             5069\n",
       "Radio                      4980\n",
       "Sunday Paper               4859\n",
       "In-Store Coupon            4495\n",
       "Sunday Paper, Radio        4050\n",
       "Cash Register Handout      4002\n",
       "TV                         3576\n",
       "Bulk Mail                  3457\n",
       "Sunday Paper, Radio, TV    3346\n",
       "Name: media_type, dtype: int64"
      ]
     },
     "execution_count": 29,
     "metadata": {},
     "output_type": "execute_result"
    }
   ],
   "source": [
    "df['media_type'].value_counts()"
   ]
  },
  {
   "cell_type": "code",
   "execution_count": 41,
   "id": "b12dee75",
   "metadata": {},
   "outputs": [
    {
     "data": {
      "text/plain": [
       "Weekend Markdown           2330\n",
       "Two Day Sale               2321\n",
       "Price Savers               2279\n",
       "Price Winners              2108\n",
       "Save-It Sale               2001\n",
       "Super Duper Savers         1986\n",
       "Super Savers               1930\n",
       "One Day Sale               1843\n",
       "Double Down Sale           1755\n",
       "High Roller Savings        1741\n",
       "Green Light Days           1702\n",
       "Shelf Clearing Days        1690\n",
       "Price Slashers             1647\n",
       "Free For All               1621\n",
       "Cash Register Lottery      1555\n",
       "Go For It                  1521\n",
       "Two for One                1493\n",
       "Money Savers               1489\n",
       "Big Time Discounts         1480\n",
       "Price Destroyers           1374\n",
       "Saving Days                1353\n",
       "Dollar Cutters             1326\n",
       "Unbeatable Price Savers    1217\n",
       "Sales Galore               1212\n",
       "Big Promo                  1172\n",
       "Dimes Off                  1150\n",
       "Sales Days                 1107\n",
       "Price Cutters              1099\n",
       "You Save Days              1075\n",
       "Savings Galore             1067\n",
       "Bag Stuffers               1066\n",
       "Three for One              1042\n",
       "I Cant Believe It Sale      972\n",
       "Sale Winners                910\n",
       "Pick Your Savings           876\n",
       "Bye Bye Baby                874\n",
       "Best Savings                868\n",
       "Tip Top Savings             862\n",
       "Shelf Emptiers              799\n",
       "Big Time Savings            745\n",
       "Wallet Savers               608\n",
       "Dollar Days                 532\n",
       "Mystery Sale                511\n",
       "Price Smashers              449\n",
       "Green Light Special         427\n",
       "Coupon Spectacular          402\n",
       "Super Wallet Savers         389\n",
       "Double Your Savings         242\n",
       "Fantastic Discounts         210\n",
       "Name: promotion_name, dtype: int64"
      ]
     },
     "execution_count": 41,
     "metadata": {},
     "output_type": "execute_result"
    }
   ],
   "source": [
    "df['promotion_name'].value_counts()"
   ]
  },
  {
   "cell_type": "code",
   "execution_count": 67,
   "id": "031bddbb",
   "metadata": {},
   "outputs": [
    {
     "data": {
      "text/html": [
       "<div>\n",
       "<style scoped>\n",
       "    .dataframe tbody tr th:only-of-type {\n",
       "        vertical-align: middle;\n",
       "    }\n",
       "\n",
       "    .dataframe tbody tr th {\n",
       "        vertical-align: top;\n",
       "    }\n",
       "\n",
       "    .dataframe thead th {\n",
       "        text-align: right;\n",
       "    }\n",
       "</style>\n",
       "<table border=\"1\" class=\"dataframe\">\n",
       "  <thead>\n",
       "    <tr style=\"text-align: right;\">\n",
       "      <th></th>\n",
       "      <th>store_sales(in millions)</th>\n",
       "      <th>store_cost(in millions)</th>\n",
       "      <th>unit_sales(in millions)</th>\n",
       "      <th>total_children</th>\n",
       "      <th>avg_cars_at home(approx)</th>\n",
       "      <th>num_children_at_home</th>\n",
       "      <th>avg_cars_at home(approx).1</th>\n",
       "      <th>SRP</th>\n",
       "      <th>gross_weight</th>\n",
       "      <th>net_weight</th>\n",
       "      <th>...</th>\n",
       "      <th>store_sqft</th>\n",
       "      <th>grocery_sqft</th>\n",
       "      <th>frozen_sqft</th>\n",
       "      <th>meat_sqft</th>\n",
       "      <th>coffee_bar</th>\n",
       "      <th>video_store</th>\n",
       "      <th>salad_bar</th>\n",
       "      <th>prepared_food</th>\n",
       "      <th>florist</th>\n",
       "      <th>cost</th>\n",
       "    </tr>\n",
       "  </thead>\n",
       "  <tbody>\n",
       "    <tr>\n",
       "      <th>count</th>\n",
       "      <td>60428.0</td>\n",
       "      <td>60428.0</td>\n",
       "      <td>60428.0</td>\n",
       "      <td>60428.0</td>\n",
       "      <td>60428.0</td>\n",
       "      <td>60428.0</td>\n",
       "      <td>60428.0</td>\n",
       "      <td>60428.0</td>\n",
       "      <td>60428.0</td>\n",
       "      <td>60428.0</td>\n",
       "      <td>...</td>\n",
       "      <td>60428.0</td>\n",
       "      <td>60428.0</td>\n",
       "      <td>60428.0</td>\n",
       "      <td>60428.0</td>\n",
       "      <td>60428.0</td>\n",
       "      <td>60428.0</td>\n",
       "      <td>60428.0</td>\n",
       "      <td>60428.0</td>\n",
       "      <td>60428.0</td>\n",
       "      <td>60428.0</td>\n",
       "    </tr>\n",
       "    <tr>\n",
       "      <th>mean</th>\n",
       "      <td>7.0</td>\n",
       "      <td>3.0</td>\n",
       "      <td>3.0</td>\n",
       "      <td>3.0</td>\n",
       "      <td>2.0</td>\n",
       "      <td>1.0</td>\n",
       "      <td>2.0</td>\n",
       "      <td>2.0</td>\n",
       "      <td>14.0</td>\n",
       "      <td>12.0</td>\n",
       "      <td>...</td>\n",
       "      <td>27988.0</td>\n",
       "      <td>19134.0</td>\n",
       "      <td>5313.0</td>\n",
       "      <td>3542.0</td>\n",
       "      <td>1.0</td>\n",
       "      <td>0.0</td>\n",
       "      <td>1.0</td>\n",
       "      <td>1.0</td>\n",
       "      <td>1.0</td>\n",
       "      <td>99.0</td>\n",
       "    </tr>\n",
       "    <tr>\n",
       "      <th>std</th>\n",
       "      <td>3.0</td>\n",
       "      <td>1.0</td>\n",
       "      <td>1.0</td>\n",
       "      <td>1.0</td>\n",
       "      <td>1.0</td>\n",
       "      <td>1.0</td>\n",
       "      <td>1.0</td>\n",
       "      <td>1.0</td>\n",
       "      <td>5.0</td>\n",
       "      <td>5.0</td>\n",
       "      <td>...</td>\n",
       "      <td>5701.0</td>\n",
       "      <td>3987.0</td>\n",
       "      <td>1576.0</td>\n",
       "      <td>1050.0</td>\n",
       "      <td>0.0</td>\n",
       "      <td>0.0</td>\n",
       "      <td>0.0</td>\n",
       "      <td>0.0</td>\n",
       "      <td>0.0</td>\n",
       "      <td>30.0</td>\n",
       "    </tr>\n",
       "    <tr>\n",
       "      <th>min</th>\n",
       "      <td>1.0</td>\n",
       "      <td>0.0</td>\n",
       "      <td>1.0</td>\n",
       "      <td>0.0</td>\n",
       "      <td>0.0</td>\n",
       "      <td>0.0</td>\n",
       "      <td>0.0</td>\n",
       "      <td>0.0</td>\n",
       "      <td>6.0</td>\n",
       "      <td>3.0</td>\n",
       "      <td>...</td>\n",
       "      <td>20319.0</td>\n",
       "      <td>13305.0</td>\n",
       "      <td>2452.0</td>\n",
       "      <td>1635.0</td>\n",
       "      <td>0.0</td>\n",
       "      <td>0.0</td>\n",
       "      <td>0.0</td>\n",
       "      <td>0.0</td>\n",
       "      <td>0.0</td>\n",
       "      <td>51.0</td>\n",
       "    </tr>\n",
       "    <tr>\n",
       "      <th>25%</th>\n",
       "      <td>4.0</td>\n",
       "      <td>2.0</td>\n",
       "      <td>3.0</td>\n",
       "      <td>1.0</td>\n",
       "      <td>1.0</td>\n",
       "      <td>0.0</td>\n",
       "      <td>1.0</td>\n",
       "      <td>1.0</td>\n",
       "      <td>10.0</td>\n",
       "      <td>8.0</td>\n",
       "      <td>...</td>\n",
       "      <td>23593.0</td>\n",
       "      <td>16232.0</td>\n",
       "      <td>4746.0</td>\n",
       "      <td>3164.0</td>\n",
       "      <td>0.0</td>\n",
       "      <td>0.0</td>\n",
       "      <td>0.0</td>\n",
       "      <td>0.0</td>\n",
       "      <td>0.0</td>\n",
       "      <td>70.0</td>\n",
       "    </tr>\n",
       "    <tr>\n",
       "      <th>50%</th>\n",
       "      <td>6.0</td>\n",
       "      <td>2.0</td>\n",
       "      <td>3.0</td>\n",
       "      <td>3.0</td>\n",
       "      <td>2.0</td>\n",
       "      <td>0.0</td>\n",
       "      <td>2.0</td>\n",
       "      <td>2.0</td>\n",
       "      <td>14.0</td>\n",
       "      <td>12.0</td>\n",
       "      <td>...</td>\n",
       "      <td>27694.0</td>\n",
       "      <td>18670.0</td>\n",
       "      <td>5062.0</td>\n",
       "      <td>3375.0</td>\n",
       "      <td>1.0</td>\n",
       "      <td>0.0</td>\n",
       "      <td>1.0</td>\n",
       "      <td>1.0</td>\n",
       "      <td>1.0</td>\n",
       "      <td>99.0</td>\n",
       "    </tr>\n",
       "    <tr>\n",
       "      <th>75%</th>\n",
       "      <td>9.0</td>\n",
       "      <td>3.0</td>\n",
       "      <td>4.0</td>\n",
       "      <td>4.0</td>\n",
       "      <td>3.0</td>\n",
       "      <td>1.0</td>\n",
       "      <td>3.0</td>\n",
       "      <td>3.0</td>\n",
       "      <td>18.0</td>\n",
       "      <td>16.0</td>\n",
       "      <td>...</td>\n",
       "      <td>30797.0</td>\n",
       "      <td>22123.0</td>\n",
       "      <td>5751.0</td>\n",
       "      <td>3834.0</td>\n",
       "      <td>1.0</td>\n",
       "      <td>1.0</td>\n",
       "      <td>1.0</td>\n",
       "      <td>1.0</td>\n",
       "      <td>1.0</td>\n",
       "      <td>127.0</td>\n",
       "    </tr>\n",
       "    <tr>\n",
       "      <th>max</th>\n",
       "      <td>23.0</td>\n",
       "      <td>10.0</td>\n",
       "      <td>6.0</td>\n",
       "      <td>5.0</td>\n",
       "      <td>4.0</td>\n",
       "      <td>5.0</td>\n",
       "      <td>4.0</td>\n",
       "      <td>4.0</td>\n",
       "      <td>22.0</td>\n",
       "      <td>21.0</td>\n",
       "      <td>...</td>\n",
       "      <td>39696.0</td>\n",
       "      <td>30351.0</td>\n",
       "      <td>9184.0</td>\n",
       "      <td>6122.0</td>\n",
       "      <td>1.0</td>\n",
       "      <td>1.0</td>\n",
       "      <td>1.0</td>\n",
       "      <td>1.0</td>\n",
       "      <td>1.0</td>\n",
       "      <td>150.0</td>\n",
       "    </tr>\n",
       "  </tbody>\n",
       "</table>\n",
       "<p>8 rows × 23 columns</p>\n",
       "</div>"
      ],
      "text/plain": [
       "       store_sales(in millions)  store_cost(in millions)  \\\n",
       "count                   60428.0                  60428.0   \n",
       "mean                        7.0                      3.0   \n",
       "std                         3.0                      1.0   \n",
       "min                         1.0                      0.0   \n",
       "25%                         4.0                      2.0   \n",
       "50%                         6.0                      2.0   \n",
       "75%                         9.0                      3.0   \n",
       "max                        23.0                     10.0   \n",
       "\n",
       "       unit_sales(in millions)  total_children  avg_cars_at home(approx)  \\\n",
       "count                  60428.0         60428.0                   60428.0   \n",
       "mean                       3.0             3.0                       2.0   \n",
       "std                        1.0             1.0                       1.0   \n",
       "min                        1.0             0.0                       0.0   \n",
       "25%                        3.0             1.0                       1.0   \n",
       "50%                        3.0             3.0                       2.0   \n",
       "75%                        4.0             4.0                       3.0   \n",
       "max                        6.0             5.0                       4.0   \n",
       "\n",
       "       num_children_at_home  avg_cars_at home(approx).1      SRP  \\\n",
       "count               60428.0                     60428.0  60428.0   \n",
       "mean                    1.0                         2.0      2.0   \n",
       "std                     1.0                         1.0      1.0   \n",
       "min                     0.0                         0.0      0.0   \n",
       "25%                     0.0                         1.0      1.0   \n",
       "50%                     0.0                         2.0      2.0   \n",
       "75%                     1.0                         3.0      3.0   \n",
       "max                     5.0                         4.0      4.0   \n",
       "\n",
       "       gross_weight  net_weight  ...  store_sqft  grocery_sqft  frozen_sqft  \\\n",
       "count       60428.0     60428.0  ...     60428.0       60428.0      60428.0   \n",
       "mean           14.0        12.0  ...     27988.0       19134.0       5313.0   \n",
       "std             5.0         5.0  ...      5701.0        3987.0       1576.0   \n",
       "min             6.0         3.0  ...     20319.0       13305.0       2452.0   \n",
       "25%            10.0         8.0  ...     23593.0       16232.0       4746.0   \n",
       "50%            14.0        12.0  ...     27694.0       18670.0       5062.0   \n",
       "75%            18.0        16.0  ...     30797.0       22123.0       5751.0   \n",
       "max            22.0        21.0  ...     39696.0       30351.0       9184.0   \n",
       "\n",
       "       meat_sqft  coffee_bar  video_store  salad_bar  prepared_food  florist  \\\n",
       "count    60428.0     60428.0      60428.0    60428.0        60428.0  60428.0   \n",
       "mean      3542.0         1.0          0.0        1.0            1.0      1.0   \n",
       "std       1050.0         0.0          0.0        0.0            0.0      0.0   \n",
       "min       1635.0         0.0          0.0        0.0            0.0      0.0   \n",
       "25%       3164.0         0.0          0.0        0.0            0.0      0.0   \n",
       "50%       3375.0         1.0          0.0        1.0            1.0      1.0   \n",
       "75%       3834.0         1.0          1.0        1.0            1.0      1.0   \n",
       "max       6122.0         1.0          1.0        1.0            1.0      1.0   \n",
       "\n",
       "          cost  \n",
       "count  60428.0  \n",
       "mean      99.0  \n",
       "std       30.0  \n",
       "min       51.0  \n",
       "25%       70.0  \n",
       "50%       99.0  \n",
       "75%      127.0  \n",
       "max      150.0  \n",
       "\n",
       "[8 rows x 23 columns]"
      ]
     },
     "execution_count": 67,
     "metadata": {},
     "output_type": "execute_result"
    }
   ],
   "source": [
    "df.describe().round()"
   ]
  },
  {
   "cell_type": "code",
   "execution_count": 80,
   "id": "d1757368",
   "metadata": {},
   "outputs": [
    {
     "data": {
      "text/html": [
       "<div>\n",
       "<style scoped>\n",
       "    .dataframe tbody tr th:only-of-type {\n",
       "        vertical-align: middle;\n",
       "    }\n",
       "\n",
       "    .dataframe tbody tr th {\n",
       "        vertical-align: top;\n",
       "    }\n",
       "\n",
       "    .dataframe thead th {\n",
       "        text-align: right;\n",
       "    }\n",
       "</style>\n",
       "<table border=\"1\" class=\"dataframe\">\n",
       "  <thead>\n",
       "    <tr style=\"text-align: right;\">\n",
       "      <th></th>\n",
       "      <th></th>\n",
       "      <th>store_cost(in millions)</th>\n",
       "      <th>cost</th>\n",
       "    </tr>\n",
       "    <tr>\n",
       "      <th>sales_country</th>\n",
       "      <th>food_category</th>\n",
       "      <th></th>\n",
       "      <th></th>\n",
       "    </tr>\n",
       "  </thead>\n",
       "  <tbody>\n",
       "    <tr>\n",
       "      <th rowspan=\"5\" valign=\"top\">Canada</th>\n",
       "      <th>Baking Goods</th>\n",
       "      <td>331.8567</td>\n",
       "      <td>13773.07</td>\n",
       "    </tr>\n",
       "    <tr>\n",
       "      <th>Bathroom Products</th>\n",
       "      <td>293.5480</td>\n",
       "      <td>12388.21</td>\n",
       "    </tr>\n",
       "    <tr>\n",
       "      <th>Beer and Wine</th>\n",
       "      <td>229.2504</td>\n",
       "      <td>9659.38</td>\n",
       "    </tr>\n",
       "    <tr>\n",
       "      <th>Bread</th>\n",
       "      <td>286.2963</td>\n",
       "      <td>11413.28</td>\n",
       "    </tr>\n",
       "    <tr>\n",
       "      <th>Breakfast Foods</th>\n",
       "      <td>306.3535</td>\n",
       "      <td>13525.06</td>\n",
       "    </tr>\n",
       "    <tr>\n",
       "      <th>...</th>\n",
       "      <th>...</th>\n",
       "      <td>...</td>\n",
       "      <td>...</td>\n",
       "    </tr>\n",
       "    <tr>\n",
       "      <th rowspan=\"5\" valign=\"top\">USA</th>\n",
       "      <th>Side Dishes</th>\n",
       "      <td>879.9271</td>\n",
       "      <td>38568.84</td>\n",
       "    </tr>\n",
       "    <tr>\n",
       "      <th>Snack Foods</th>\n",
       "      <td>12256.4988</td>\n",
       "      <td>440810.44</td>\n",
       "    </tr>\n",
       "    <tr>\n",
       "      <th>Specialty</th>\n",
       "      <td>1900.0924</td>\n",
       "      <td>74671.82</td>\n",
       "    </tr>\n",
       "    <tr>\n",
       "      <th>Starchy Foods</th>\n",
       "      <td>2036.7271</td>\n",
       "      <td>70396.07</td>\n",
       "    </tr>\n",
       "    <tr>\n",
       "      <th>Vegetables</th>\n",
       "      <td>12909.1962</td>\n",
       "      <td>473191.60</td>\n",
       "    </tr>\n",
       "  </tbody>\n",
       "</table>\n",
       "<p>135 rows × 2 columns</p>\n",
       "</div>"
      ],
      "text/plain": [
       "                                 store_cost(in millions)       cost\n",
       "sales_country food_category                                        \n",
       "Canada        Baking Goods                      331.8567   13773.07\n",
       "              Bathroom Products                 293.5480   12388.21\n",
       "              Beer and Wine                     229.2504    9659.38\n",
       "              Bread                             286.2963   11413.28\n",
       "              Breakfast Foods                   306.3535   13525.06\n",
       "...                                                  ...        ...\n",
       "USA           Side Dishes                       879.9271   38568.84\n",
       "              Snack Foods                     12256.4988  440810.44\n",
       "              Specialty                        1900.0924   74671.82\n",
       "              Starchy Foods                    2036.7271   70396.07\n",
       "              Vegetables                      12909.1962  473191.60\n",
       "\n",
       "[135 rows x 2 columns]"
      ]
     },
     "execution_count": 80,
     "metadata": {},
     "output_type": "execute_result"
    }
   ],
   "source": [
    "df.groupby(['sales_country','food_category'])[['store_cost(in millions)','cost']].sum()"
   ]
  },
  {
   "cell_type": "code",
   "execution_count": 84,
   "id": "b45b981f",
   "metadata": {},
   "outputs": [
    {
     "data": {
      "text/html": [
       "<div>\n",
       "<style scoped>\n",
       "    .dataframe tbody tr th:only-of-type {\n",
       "        vertical-align: middle;\n",
       "    }\n",
       "\n",
       "    .dataframe tbody tr th {\n",
       "        vertical-align: top;\n",
       "    }\n",
       "\n",
       "    .dataframe thead th {\n",
       "        text-align: right;\n",
       "    }\n",
       "</style>\n",
       "<table border=\"1\" class=\"dataframe\">\n",
       "  <thead>\n",
       "    <tr style=\"text-align: right;\">\n",
       "      <th></th>\n",
       "      <th></th>\n",
       "      <th>cost</th>\n",
       "    </tr>\n",
       "    <tr>\n",
       "      <th>education</th>\n",
       "      <th>member_card</th>\n",
       "      <th></th>\n",
       "    </tr>\n",
       "  </thead>\n",
       "  <tbody>\n",
       "    <tr>\n",
       "      <th rowspan=\"4\" valign=\"top\">Bachelors Degree</th>\n",
       "      <th>Bronze</th>\n",
       "      <td>99.947046</td>\n",
       "    </tr>\n",
       "    <tr>\n",
       "      <th>Golden</th>\n",
       "      <td>97.310133</td>\n",
       "    </tr>\n",
       "    <tr>\n",
       "      <th>Normal</th>\n",
       "      <td>99.944949</td>\n",
       "    </tr>\n",
       "    <tr>\n",
       "      <th>Silver</th>\n",
       "      <td>99.755120</td>\n",
       "    </tr>\n",
       "    <tr>\n",
       "      <th rowspan=\"4\" valign=\"top\">Graduate Degree</th>\n",
       "      <th>Bronze</th>\n",
       "      <td>98.454544</td>\n",
       "    </tr>\n",
       "    <tr>\n",
       "      <th>Golden</th>\n",
       "      <td>104.335339</td>\n",
       "    </tr>\n",
       "    <tr>\n",
       "      <th>Normal</th>\n",
       "      <td>103.274732</td>\n",
       "    </tr>\n",
       "    <tr>\n",
       "      <th>Silver</th>\n",
       "      <td>94.129079</td>\n",
       "    </tr>\n",
       "    <tr>\n",
       "      <th rowspan=\"4\" valign=\"top\">High School Degree</th>\n",
       "      <th>Bronze</th>\n",
       "      <td>99.006369</td>\n",
       "    </tr>\n",
       "    <tr>\n",
       "      <th>Golden</th>\n",
       "      <td>99.482760</td>\n",
       "    </tr>\n",
       "    <tr>\n",
       "      <th>Normal</th>\n",
       "      <td>97.579700</td>\n",
       "    </tr>\n",
       "    <tr>\n",
       "      <th>Silver</th>\n",
       "      <td>99.628901</td>\n",
       "    </tr>\n",
       "    <tr>\n",
       "      <th rowspan=\"4\" valign=\"top\">Partial College</th>\n",
       "      <th>Bronze</th>\n",
       "      <td>100.169609</td>\n",
       "    </tr>\n",
       "    <tr>\n",
       "      <th>Golden</th>\n",
       "      <td>100.790071</td>\n",
       "    </tr>\n",
       "    <tr>\n",
       "      <th>Normal</th>\n",
       "      <td>93.699271</td>\n",
       "    </tr>\n",
       "    <tr>\n",
       "      <th>Silver</th>\n",
       "      <td>99.726424</td>\n",
       "    </tr>\n",
       "    <tr>\n",
       "      <th rowspan=\"4\" valign=\"top\">Partial High School</th>\n",
       "      <th>Bronze</th>\n",
       "      <td>98.470358</td>\n",
       "    </tr>\n",
       "    <tr>\n",
       "      <th>Golden</th>\n",
       "      <td>97.371589</td>\n",
       "    </tr>\n",
       "    <tr>\n",
       "      <th>Normal</th>\n",
       "      <td>99.416619</td>\n",
       "    </tr>\n",
       "    <tr>\n",
       "      <th>Silver</th>\n",
       "      <td>101.367921</td>\n",
       "    </tr>\n",
       "  </tbody>\n",
       "</table>\n",
       "</div>"
      ],
      "text/plain": [
       "                                       cost\n",
       "education           member_card            \n",
       "Bachelors Degree    Bronze        99.947046\n",
       "                    Golden        97.310133\n",
       "                    Normal        99.944949\n",
       "                    Silver        99.755120\n",
       "Graduate Degree     Bronze        98.454544\n",
       "                    Golden       104.335339\n",
       "                    Normal       103.274732\n",
       "                    Silver        94.129079\n",
       "High School Degree  Bronze        99.006369\n",
       "                    Golden        99.482760\n",
       "                    Normal        97.579700\n",
       "                    Silver        99.628901\n",
       "Partial College     Bronze       100.169609\n",
       "                    Golden       100.790071\n",
       "                    Normal        93.699271\n",
       "                    Silver        99.726424\n",
       "Partial High School Bronze        98.470358\n",
       "                    Golden        97.371589\n",
       "                    Normal        99.416619\n",
       "                    Silver       101.367921"
      ]
     },
     "execution_count": 84,
     "metadata": {},
     "output_type": "execute_result"
    }
   ],
   "source": [
    "df.groupby(['education','member_card'])[['cost']].mean()"
   ]
  },
  {
   "cell_type": "code",
   "execution_count": 91,
   "id": "b31f4fc4",
   "metadata": {},
   "outputs": [
    {
     "data": {
      "text/html": [
       "<div>\n",
       "<style scoped>\n",
       "    .dataframe tbody tr th:only-of-type {\n",
       "        vertical-align: middle;\n",
       "    }\n",
       "\n",
       "    .dataframe tbody tr th {\n",
       "        vertical-align: top;\n",
       "    }\n",
       "\n",
       "    .dataframe thead th {\n",
       "        text-align: right;\n",
       "    }\n",
       "</style>\n",
       "<table border=\"1\" class=\"dataframe\">\n",
       "  <thead>\n",
       "    <tr style=\"text-align: right;\">\n",
       "      <th></th>\n",
       "      <th></th>\n",
       "      <th>coffee_bar</th>\n",
       "      <th>video_store</th>\n",
       "      <th>salad_bar</th>\n",
       "      <th>prepared_food</th>\n",
       "      <th>florist</th>\n",
       "    </tr>\n",
       "    <tr>\n",
       "      <th>education</th>\n",
       "      <th>occupation</th>\n",
       "      <th></th>\n",
       "      <th></th>\n",
       "      <th></th>\n",
       "      <th></th>\n",
       "      <th></th>\n",
       "    </tr>\n",
       "  </thead>\n",
       "  <tbody>\n",
       "    <tr>\n",
       "      <th rowspan=\"2\" valign=\"top\">Bachelors Degree</th>\n",
       "      <th>Management</th>\n",
       "      <td>2793.0</td>\n",
       "      <td>1651.0</td>\n",
       "      <td>2795.0</td>\n",
       "      <td>2795.0</td>\n",
       "      <td>2642.0</td>\n",
       "    </tr>\n",
       "    <tr>\n",
       "      <th>Professional</th>\n",
       "      <td>6871.0</td>\n",
       "      <td>3812.0</td>\n",
       "      <td>6630.0</td>\n",
       "      <td>6630.0</td>\n",
       "      <td>6262.0</td>\n",
       "    </tr>\n",
       "    <tr>\n",
       "      <th rowspan=\"2\" valign=\"top\">Graduate Degree</th>\n",
       "      <th>Management</th>\n",
       "      <td>349.0</td>\n",
       "      <td>167.0</td>\n",
       "      <td>402.0</td>\n",
       "      <td>402.0</td>\n",
       "      <td>260.0</td>\n",
       "    </tr>\n",
       "    <tr>\n",
       "      <th>Professional</th>\n",
       "      <td>1408.0</td>\n",
       "      <td>981.0</td>\n",
       "      <td>1327.0</td>\n",
       "      <td>1327.0</td>\n",
       "      <td>1360.0</td>\n",
       "    </tr>\n",
       "    <tr>\n",
       "      <th rowspan=\"4\" valign=\"top\">High School Degree</th>\n",
       "      <th>Management</th>\n",
       "      <td>719.0</td>\n",
       "      <td>349.0</td>\n",
       "      <td>683.0</td>\n",
       "      <td>683.0</td>\n",
       "      <td>649.0</td>\n",
       "    </tr>\n",
       "    <tr>\n",
       "      <th>Manual</th>\n",
       "      <td>4192.0</td>\n",
       "      <td>2330.0</td>\n",
       "      <td>3984.0</td>\n",
       "      <td>3984.0</td>\n",
       "      <td>3823.0</td>\n",
       "    </tr>\n",
       "    <tr>\n",
       "      <th>Professional</th>\n",
       "      <td>1728.0</td>\n",
       "      <td>825.0</td>\n",
       "      <td>1507.0</td>\n",
       "      <td>1507.0</td>\n",
       "      <td>1544.0</td>\n",
       "    </tr>\n",
       "    <tr>\n",
       "      <th>Skilled Manual</th>\n",
       "      <td>4423.0</td>\n",
       "      <td>2732.0</td>\n",
       "      <td>4377.0</td>\n",
       "      <td>4377.0</td>\n",
       "      <td>4148.0</td>\n",
       "    </tr>\n",
       "    <tr>\n",
       "      <th rowspan=\"5\" valign=\"top\">Partial College</th>\n",
       "      <th>Clerical</th>\n",
       "      <td>621.0</td>\n",
       "      <td>380.0</td>\n",
       "      <td>641.0</td>\n",
       "      <td>641.0</td>\n",
       "      <td>533.0</td>\n",
       "    </tr>\n",
       "    <tr>\n",
       "      <th>Management</th>\n",
       "      <td>699.0</td>\n",
       "      <td>318.0</td>\n",
       "      <td>695.0</td>\n",
       "      <td>695.0</td>\n",
       "      <td>663.0</td>\n",
       "    </tr>\n",
       "    <tr>\n",
       "      <th>Manual</th>\n",
       "      <td>341.0</td>\n",
       "      <td>204.0</td>\n",
       "      <td>276.0</td>\n",
       "      <td>276.0</td>\n",
       "      <td>285.0</td>\n",
       "    </tr>\n",
       "    <tr>\n",
       "      <th>Professional</th>\n",
       "      <td>1195.0</td>\n",
       "      <td>651.0</td>\n",
       "      <td>1037.0</td>\n",
       "      <td>1037.0</td>\n",
       "      <td>1080.0</td>\n",
       "    </tr>\n",
       "    <tr>\n",
       "      <th>Skilled Manual</th>\n",
       "      <td>390.0</td>\n",
       "      <td>205.0</td>\n",
       "      <td>441.0</td>\n",
       "      <td>441.0</td>\n",
       "      <td>290.0</td>\n",
       "    </tr>\n",
       "    <tr>\n",
       "      <th rowspan=\"4\" valign=\"top\">Partial High School</th>\n",
       "      <th>Management</th>\n",
       "      <td>786.0</td>\n",
       "      <td>562.0</td>\n",
       "      <td>673.0</td>\n",
       "      <td>673.0</td>\n",
       "      <td>728.0</td>\n",
       "    </tr>\n",
       "    <tr>\n",
       "      <th>Manual</th>\n",
       "      <td>4502.0</td>\n",
       "      <td>2550.0</td>\n",
       "      <td>4048.0</td>\n",
       "      <td>4048.0</td>\n",
       "      <td>3934.0</td>\n",
       "    </tr>\n",
       "    <tr>\n",
       "      <th>Professional</th>\n",
       "      <td>1314.0</td>\n",
       "      <td>854.0</td>\n",
       "      <td>1212.0</td>\n",
       "      <td>1212.0</td>\n",
       "      <td>1243.0</td>\n",
       "    </tr>\n",
       "    <tr>\n",
       "      <th>Skilled Manual</th>\n",
       "      <td>4690.0</td>\n",
       "      <td>2830.0</td>\n",
       "      <td>4801.0</td>\n",
       "      <td>4801.0</td>\n",
       "      <td>4553.0</td>\n",
       "    </tr>\n",
       "  </tbody>\n",
       "</table>\n",
       "</div>"
      ],
      "text/plain": [
       "                                    coffee_bar  video_store  salad_bar  \\\n",
       "education           occupation                                           \n",
       "Bachelors Degree    Management          2793.0       1651.0     2795.0   \n",
       "                    Professional        6871.0       3812.0     6630.0   \n",
       "Graduate Degree     Management           349.0        167.0      402.0   \n",
       "                    Professional        1408.0        981.0     1327.0   \n",
       "High School Degree  Management           719.0        349.0      683.0   \n",
       "                    Manual              4192.0       2330.0     3984.0   \n",
       "                    Professional        1728.0        825.0     1507.0   \n",
       "                    Skilled Manual      4423.0       2732.0     4377.0   \n",
       "Partial College     Clerical             621.0        380.0      641.0   \n",
       "                    Management           699.0        318.0      695.0   \n",
       "                    Manual               341.0        204.0      276.0   \n",
       "                    Professional        1195.0        651.0     1037.0   \n",
       "                    Skilled Manual       390.0        205.0      441.0   \n",
       "Partial High School Management           786.0        562.0      673.0   \n",
       "                    Manual              4502.0       2550.0     4048.0   \n",
       "                    Professional        1314.0        854.0     1212.0   \n",
       "                    Skilled Manual      4690.0       2830.0     4801.0   \n",
       "\n",
       "                                    prepared_food  florist  \n",
       "education           occupation                              \n",
       "Bachelors Degree    Management             2795.0   2642.0  \n",
       "                    Professional           6630.0   6262.0  \n",
       "Graduate Degree     Management              402.0    260.0  \n",
       "                    Professional           1327.0   1360.0  \n",
       "High School Degree  Management              683.0    649.0  \n",
       "                    Manual                 3984.0   3823.0  \n",
       "                    Professional           1507.0   1544.0  \n",
       "                    Skilled Manual         4377.0   4148.0  \n",
       "Partial College     Clerical                641.0    533.0  \n",
       "                    Management              695.0    663.0  \n",
       "                    Manual                  276.0    285.0  \n",
       "                    Professional           1037.0   1080.0  \n",
       "                    Skilled Manual          441.0    290.0  \n",
       "Partial High School Management              673.0    728.0  \n",
       "                    Manual                 4048.0   3934.0  \n",
       "                    Professional           1212.0   1243.0  \n",
       "                    Skilled Manual         4801.0   4553.0  "
      ]
     },
     "execution_count": 91,
     "metadata": {},
     "output_type": "execute_result"
    }
   ],
   "source": [
    "df.groupby(['education','occupation'])[['coffee_bar','video_store','salad_bar','prepared_food','florist']].sum()"
   ]
  },
  {
   "cell_type": "code",
   "execution_count": 88,
   "id": "0dce8624",
   "metadata": {},
   "outputs": [
    {
     "data": {
      "text/html": [
       "<div>\n",
       "<style scoped>\n",
       "    .dataframe tbody tr th:only-of-type {\n",
       "        vertical-align: middle;\n",
       "    }\n",
       "\n",
       "    .dataframe tbody tr th {\n",
       "        vertical-align: top;\n",
       "    }\n",
       "\n",
       "    .dataframe thead th {\n",
       "        text-align: right;\n",
       "    }\n",
       "</style>\n",
       "<table border=\"1\" class=\"dataframe\">\n",
       "  <thead>\n",
       "    <tr style=\"text-align: right;\">\n",
       "      <th></th>\n",
       "      <th></th>\n",
       "      <th></th>\n",
       "      <th>store_sqft</th>\n",
       "      <th>grocery_sqft</th>\n",
       "      <th>frozen_sqft</th>\n",
       "      <th>meat_sqft</th>\n",
       "    </tr>\n",
       "    <tr>\n",
       "      <th>store_city</th>\n",
       "      <th>store_state</th>\n",
       "      <th>store_type</th>\n",
       "      <th></th>\n",
       "      <th></th>\n",
       "      <th></th>\n",
       "      <th></th>\n",
       "    </tr>\n",
       "  </thead>\n",
       "  <tbody>\n",
       "    <tr>\n",
       "      <th>Acapulco</th>\n",
       "      <th>Guerrero</th>\n",
       "      <th>Supermarket</th>\n",
       "      <td>35531058.0</td>\n",
       "      <td>26317350.0</td>\n",
       "      <td>5528526.0</td>\n",
       "      <td>3685182.0</td>\n",
       "    </tr>\n",
       "    <tr>\n",
       "      <th>Bellingham</th>\n",
       "      <th>WA</th>\n",
       "      <th>Small Grocery</th>\n",
       "      <td>20054466.0</td>\n",
       "      <td>15834681.0</td>\n",
       "      <td>2531871.0</td>\n",
       "      <td>1687914.0</td>\n",
       "    </tr>\n",
       "    <tr>\n",
       "      <th>Beverly Hills</th>\n",
       "      <th>CA</th>\n",
       "      <th>Gourmet Supermarket</th>\n",
       "      <td>98328888.0</td>\n",
       "      <td>63663887.0</td>\n",
       "      <td>20800661.0</td>\n",
       "      <td>13864340.0</td>\n",
       "    </tr>\n",
       "    <tr>\n",
       "      <th>Bremerton</th>\n",
       "      <th>WA</th>\n",
       "      <th>Supermarket</th>\n",
       "      <td>136990896.0</td>\n",
       "      <td>84169890.0</td>\n",
       "      <td>31693984.0</td>\n",
       "      <td>21127022.0</td>\n",
       "    </tr>\n",
       "    <tr>\n",
       "      <th>Camacho</th>\n",
       "      <th>Zacatecas</th>\n",
       "      <th>Gourmet Supermarket</th>\n",
       "      <td>55881168.0</td>\n",
       "      <td>39617088.0</td>\n",
       "      <td>9758448.0</td>\n",
       "      <td>6505632.0</td>\n",
       "    </tr>\n",
       "    <tr>\n",
       "      <th>Guadalajara</th>\n",
       "      <th>Jalisco</th>\n",
       "      <th>Small Grocery</th>\n",
       "      <td>10798083.0</td>\n",
       "      <td>6590268.0</td>\n",
       "      <td>2524689.0</td>\n",
       "      <td>1683126.0</td>\n",
       "    </tr>\n",
       "    <tr>\n",
       "      <th rowspan=\"2\" valign=\"top\">Hidalgo</th>\n",
       "      <th rowspan=\"2\" valign=\"top\">Zacatecas</th>\n",
       "      <th>Deluxe Supermarket</th>\n",
       "      <td>118971760.0</td>\n",
       "      <td>85338820.0</td>\n",
       "      <td>20181320.0</td>\n",
       "      <td>13451620.0</td>\n",
       "    </tr>\n",
       "    <tr>\n",
       "      <th>Mid-Size Grocery</th>\n",
       "      <td>33430722.0</td>\n",
       "      <td>26435721.0</td>\n",
       "      <td>4197349.0</td>\n",
       "      <td>2798523.0</td>\n",
       "    </tr>\n",
       "    <tr>\n",
       "      <th>Los Angeles</th>\n",
       "      <th>CA</th>\n",
       "      <th>Supermarket</th>\n",
       "      <td>93448080.0</td>\n",
       "      <td>56271600.0</td>\n",
       "      <td>22306680.0</td>\n",
       "      <td>14869800.0</td>\n",
       "    </tr>\n",
       "    <tr>\n",
       "      <th>Merida</th>\n",
       "      <th>Yucatan</th>\n",
       "      <th>Deluxe Supermarket</th>\n",
       "      <td>138524906.0</td>\n",
       "      <td>90594218.0</td>\n",
       "      <td>28755714.0</td>\n",
       "      <td>19170476.0</td>\n",
       "    </tr>\n",
       "    <tr>\n",
       "      <th>Mexico City</th>\n",
       "      <th>DF</th>\n",
       "      <th>Mid-Size Grocery</th>\n",
       "      <td>50930055.0</td>\n",
       "      <td>31317750.0</td>\n",
       "      <td>11766825.0</td>\n",
       "      <td>7845480.0</td>\n",
       "    </tr>\n",
       "    <tr>\n",
       "      <th>Orizaba</th>\n",
       "      <th>Veracruz</th>\n",
       "      <th>Supermarket</th>\n",
       "      <td>91187211.0</td>\n",
       "      <td>69073834.0</td>\n",
       "      <td>13267502.0</td>\n",
       "      <td>8845875.0</td>\n",
       "    </tr>\n",
       "    <tr>\n",
       "      <th>Portland</th>\n",
       "      <th>OR</th>\n",
       "      <th>Supermarket</th>\n",
       "      <td>104642850.0</td>\n",
       "      <td>83594800.0</td>\n",
       "      <td>12627800.0</td>\n",
       "      <td>8420250.0</td>\n",
       "    </tr>\n",
       "    <tr>\n",
       "      <th>Salem</th>\n",
       "      <th>OR</th>\n",
       "      <th>Deluxe Supermarket</th>\n",
       "      <td>151707732.0</td>\n",
       "      <td>102274260.0</td>\n",
       "      <td>29663370.0</td>\n",
       "      <td>19775580.0</td>\n",
       "    </tr>\n",
       "    <tr>\n",
       "      <th>San Francisco</th>\n",
       "      <th>CA</th>\n",
       "      <th>Small Grocery</th>\n",
       "      <td>17600274.0</td>\n",
       "      <td>11996343.0</td>\n",
       "      <td>3362202.0</td>\n",
       "      <td>2241729.0</td>\n",
       "    </tr>\n",
       "    <tr>\n",
       "      <th>Seattle</th>\n",
       "      <th>WA</th>\n",
       "      <th>Supermarket</th>\n",
       "      <td>107156965.0</td>\n",
       "      <td>67203555.0</td>\n",
       "      <td>23972046.0</td>\n",
       "      <td>15981364.0</td>\n",
       "    </tr>\n",
       "    <tr>\n",
       "      <th>Spokane</th>\n",
       "      <th>WA</th>\n",
       "      <th>Supermarket</th>\n",
       "      <td>134783404.0</td>\n",
       "      <td>98246539.0</td>\n",
       "      <td>21922119.0</td>\n",
       "      <td>14614746.0</td>\n",
       "    </tr>\n",
       "    <tr>\n",
       "      <th>Tacoma</th>\n",
       "      <th>WA</th>\n",
       "      <th>Deluxe Supermarket</th>\n",
       "      <td>193126032.0</td>\n",
       "      <td>126189592.0</td>\n",
       "      <td>40161864.0</td>\n",
       "      <td>26774576.0</td>\n",
       "    </tr>\n",
       "    <tr>\n",
       "      <th>Vancouver</th>\n",
       "      <th>BC</th>\n",
       "      <th>Deluxe Supermarket</th>\n",
       "      <td>78211008.0</td>\n",
       "      <td>55558512.0</td>\n",
       "      <td>13590144.0</td>\n",
       "      <td>9062352.0</td>\n",
       "    </tr>\n",
       "    <tr>\n",
       "      <th>Victoria</th>\n",
       "      <th>BC</th>\n",
       "      <th>Mid-Size Grocery</th>\n",
       "      <td>19982160.0</td>\n",
       "      <td>15928540.0</td>\n",
       "      <td>2431940.0</td>\n",
       "      <td>1621100.0</td>\n",
       "    </tr>\n",
       "  </tbody>\n",
       "</table>\n",
       "</div>"
      ],
      "text/plain": [
       "                                                store_sqft  grocery_sqft  \\\n",
       "store_city    store_state store_type                                       \n",
       "Acapulco      Guerrero    Supermarket           35531058.0    26317350.0   \n",
       "Bellingham    WA          Small Grocery         20054466.0    15834681.0   \n",
       "Beverly Hills CA          Gourmet Supermarket   98328888.0    63663887.0   \n",
       "Bremerton     WA          Supermarket          136990896.0    84169890.0   \n",
       "Camacho       Zacatecas   Gourmet Supermarket   55881168.0    39617088.0   \n",
       "Guadalajara   Jalisco     Small Grocery         10798083.0     6590268.0   \n",
       "Hidalgo       Zacatecas   Deluxe Supermarket   118971760.0    85338820.0   \n",
       "                          Mid-Size Grocery      33430722.0    26435721.0   \n",
       "Los Angeles   CA          Supermarket           93448080.0    56271600.0   \n",
       "Merida        Yucatan     Deluxe Supermarket   138524906.0    90594218.0   \n",
       "Mexico City   DF          Mid-Size Grocery      50930055.0    31317750.0   \n",
       "Orizaba       Veracruz    Supermarket           91187211.0    69073834.0   \n",
       "Portland      OR          Supermarket          104642850.0    83594800.0   \n",
       "Salem         OR          Deluxe Supermarket   151707732.0   102274260.0   \n",
       "San Francisco CA          Small Grocery         17600274.0    11996343.0   \n",
       "Seattle       WA          Supermarket          107156965.0    67203555.0   \n",
       "Spokane       WA          Supermarket          134783404.0    98246539.0   \n",
       "Tacoma        WA          Deluxe Supermarket   193126032.0   126189592.0   \n",
       "Vancouver     BC          Deluxe Supermarket    78211008.0    55558512.0   \n",
       "Victoria      BC          Mid-Size Grocery      19982160.0    15928540.0   \n",
       "\n",
       "                                               frozen_sqft   meat_sqft  \n",
       "store_city    store_state store_type                                    \n",
       "Acapulco      Guerrero    Supermarket            5528526.0   3685182.0  \n",
       "Bellingham    WA          Small Grocery          2531871.0   1687914.0  \n",
       "Beverly Hills CA          Gourmet Supermarket   20800661.0  13864340.0  \n",
       "Bremerton     WA          Supermarket           31693984.0  21127022.0  \n",
       "Camacho       Zacatecas   Gourmet Supermarket    9758448.0   6505632.0  \n",
       "Guadalajara   Jalisco     Small Grocery          2524689.0   1683126.0  \n",
       "Hidalgo       Zacatecas   Deluxe Supermarket    20181320.0  13451620.0  \n",
       "                          Mid-Size Grocery       4197349.0   2798523.0  \n",
       "Los Angeles   CA          Supermarket           22306680.0  14869800.0  \n",
       "Merida        Yucatan     Deluxe Supermarket    28755714.0  19170476.0  \n",
       "Mexico City   DF          Mid-Size Grocery      11766825.0   7845480.0  \n",
       "Orizaba       Veracruz    Supermarket           13267502.0   8845875.0  \n",
       "Portland      OR          Supermarket           12627800.0   8420250.0  \n",
       "Salem         OR          Deluxe Supermarket    29663370.0  19775580.0  \n",
       "San Francisco CA          Small Grocery          3362202.0   2241729.0  \n",
       "Seattle       WA          Supermarket           23972046.0  15981364.0  \n",
       "Spokane       WA          Supermarket           21922119.0  14614746.0  \n",
       "Tacoma        WA          Deluxe Supermarket    40161864.0  26774576.0  \n",
       "Vancouver     BC          Deluxe Supermarket    13590144.0   9062352.0  \n",
       "Victoria      BC          Mid-Size Grocery       2431940.0   1621100.0  "
      ]
     },
     "execution_count": 88,
     "metadata": {},
     "output_type": "execute_result"
    }
   ],
   "source": [
    "df.groupby(['store_city','store_state','store_type'])[['store_sqft','grocery_sqft','frozen_sqft','meat_sqft']].sum()"
   ]
  },
  {
   "cell_type": "code",
   "execution_count": 31,
   "id": "3390aef9",
   "metadata": {},
   "outputs": [
    {
     "data": {
      "text/plain": [
       "5998226.259999999"
      ]
     },
     "execution_count": 31,
     "metadata": {},
     "output_type": "execute_result"
    }
   ],
   "source": [
    "df['cost'].sum()"
   ]
  },
  {
   "cell_type": "code",
   "execution_count": 184,
   "id": "d9f2fb5f",
   "metadata": {},
   "outputs": [
    {
     "data": {
      "text/plain": [
       "<seaborn.axisgrid.FacetGrid at 0x2751d7910a0>"
      ]
     },
     "execution_count": 184,
     "metadata": {},
     "output_type": "execute_result"
    },
    {
     "data": {
      "image/png": "[encoded data removed]",
      "text/plain": [
       "<Figure size 496.014x400 with 1 Axes>"
      ]
     },
     "metadata": {},
     "output_type": "display_data"
    }
   ],
   "source": [
    "sns.relplot(y='cost',x='meat_sqft',hue='prepared_food',data=df)"
   ]
  },
  {
   "cell_type": "code",
   "execution_count": 185,
   "id": "08513ccd",
   "metadata": {},
   "outputs": [
    {
     "data": {
      "image/png": "[encoded data removed]",
      "text/plain": [
       "<Figure size 1600x1600 with 25 Axes>"
      ]
     },
     "metadata": {},
     "output_type": "display_data"
    }
   ],
   "source": [
    "df.hist(figsize=(20,20),color='#201478')\n",
    "plt.show()"
   ]
  },
  {
   "cell_type": "code",
   "execution_count": 186,
   "id": "4f68269a",
   "metadata": {},
   "outputs": [
    {
     "data": {
      "text/plain": [
       "<AxesSubplot:xlabel='store_type', ylabel='count'>"
      ]
     },
     "execution_count": 186,
     "metadata": {},
     "output_type": "execute_result"
    },
    {
     "data": {
      "image/png": "[encoded data removed]",
      "text/plain": [
       "<Figure size 640x440 with 1 Axes>"
      ]
     },
     "metadata": {},
     "output_type": "display_data"
    }
   ],
   "source": [
    "sns.countplot(x=df['store_type'],color='#200431')"
   ]
  },
  {
   "cell_type": "code",
   "execution_count": 187,
   "id": "24aa2dfb",
   "metadata": {},
   "outputs": [
    {
     "data": {
      "text/plain": [
       "<AxesSubplot:xlabel='houseowner', ylabel='count'>"
      ]
     },
     "execution_count": 187,
     "metadata": {},
     "output_type": "execute_result"
    },
    {
     "data": {
      "image/png": "[encoded data removed]",
      "text/plain": [
       "<Figure size 640x440 with 1 Axes>"
      ]
     },
     "metadata": {},
     "output_type": "display_data"
    }
   ],
   "source": [
    "sns.countplot(x=df['houseowner'],color='#201414')"
   ]
  },
  {
   "cell_type": "code",
   "execution_count": 188,
   "id": "6aab2414",
   "metadata": {},
   "outputs": [
    {
     "data": {
      "text/plain": [
       "<AxesSubplot:xlabel='food_family', ylabel='count'>"
      ]
     },
     "execution_count": 188,
     "metadata": {},
     "output_type": "execute_result"
    },
    {
     "data": {
      "image/png": "[encoded data removed]",
      "text/plain": [
       "<Figure size 640x440 with 1 Axes>"
      ]
     },
     "metadata": {},
     "output_type": "display_data"
    }
   ],
   "source": [
    "sns.countplot(x=df['food_family'],color='#1c9099')"
   ]
  },
  {
   "cell_type": "code",
   "execution_count": 189,
   "id": "af8bc8c4",
   "metadata": {},
   "outputs": [
    {
     "data": {
      "text/plain": [
       "<AxesSubplot:xlabel='sales_country', ylabel='count'>"
      ]
     },
     "execution_count": 189,
     "metadata": {},
     "output_type": "execute_result"
    },
    {
     "data": {
      "image/png": "[encoded data removed]",
      "text/plain": [
       "<Figure size 640x440 with 1 Axes>"
      ]
     },
     "metadata": {},
     "output_type": "display_data"
    }
   ],
   "source": [
    "sns.countplot(x=df['sales_country'],color='#201414')"
   ]
  },
  {
   "cell_type": "code",
   "execution_count": 190,
   "id": "ce5378ec",
   "metadata": {},
   "outputs": [
    {
     "data": {
      "text/plain": [
       "<AxesSubplot:xlabel='marital_status', ylabel='count'>"
      ]
     },
     "execution_count": 190,
     "metadata": {},
     "output_type": "execute_result"
    },
    {
     "data": {
      "image/png": "[encoded data removed]",
      "text/plain": [
       "<Figure size 640x440 with 1 Axes>"
      ]
     },
     "metadata": {},
     "output_type": "display_data"
    }
   ],
   "source": [
    "sns.countplot(x=df['marital_status'],color='#a8ddb5')"
   ]
  },
  {
   "cell_type": "code",
   "execution_count": 191,
   "id": "d4ef7499",
   "metadata": {},
   "outputs": [
    {
     "data": {
      "text/plain": [
       "<AxesSubplot:xlabel='member_card', ylabel='count'>"
      ]
     },
     "execution_count": 191,
     "metadata": {},
     "output_type": "execute_result"
    },
    {
     "data": {
      "image/png": "[encoded data removed]",
      "text/plain": [
       "<Figure size 640x440 with 1 Axes>"
      ]
     },
     "metadata": {},
     "output_type": "display_data"
    }
   ],
   "source": [
    "sns.countplot(x=df['member_card'],color='#a8dcf5')"
   ]
  },
  {
   "cell_type": "code",
   "execution_count": 192,
   "id": "1ab6e0d7",
   "metadata": {},
   "outputs": [
    {
     "data": {
      "text/plain": [
       "<AxesSubplot:xlabel='education', ylabel='count'>"
      ]
     },
     "execution_count": 192,
     "metadata": {},
     "output_type": "execute_result"
    },
    {
     "data": {
      "image/png": "[encoded data removed]",
      "text/plain": [
       "<Figure size 640x440 with 1 Axes>"
      ]
     },
     "metadata": {},
     "output_type": "display_data"
    }
   ],
   "source": [
    "sns.countplot(x=df['education'],color='#1c9093')"
   ]
  },
  {
   "cell_type": "code",
   "execution_count": 193,
   "id": "5f8658ef",
   "metadata": {},
   "outputs": [
    {
     "data": {
      "text/plain": [
       "<AxesSubplot:xlabel='occupation', ylabel='count'>"
      ]
     },
     "execution_count": 193,
     "metadata": {},
     "output_type": "execute_result"
    },
    {
     "data": {
      "image/png": "[encoded data removed]",
      "text/plain": [
       "<Figure size 640x440 with 1 Axes>"
      ]
     },
     "metadata": {},
     "output_type": "display_data"
    }
   ],
   "source": [
    "sns.countplot(x=df['occupation'],color='#1c9062')"
   ]
  },
  {
   "cell_type": "code",
   "execution_count": 194,
   "id": "60f7c2c9",
   "metadata": {},
   "outputs": [
    {
     "data": {
      "text/plain": [
       "<AxesSubplot:>"
      ]
     },
     "execution_count": 194,
     "metadata": {},
     "output_type": "execute_result"
    },
    {
     "data": {
      "image/png": "[encoded data removed]",
      "text/plain": [
       "<Figure size 640x440 with 1 Axes>"
      ]
     },
     "metadata": {},
     "output_type": "display_data"
    }
   ],
   "source": [
    "sns.boxplot(data=df['cost'])"
   ]
  },
  {
   "cell_type": "code",
   "execution_count": 195,
   "id": "ff3fca64",
   "metadata": {},
   "outputs": [],
   "source": [
    "from sklearn.linear_model import LinearRegression\n",
    "from sklearn.model_selection import train_test_split"
   ]
  },
  {
   "cell_type": "code",
   "execution_count": 231,
   "id": "e712bd60",
   "metadata": {},
   "outputs": [],
   "source": [
    "x=df[['gross_weight','net_weight','recyclable_package','low_fat']]\n",
    "y=df['cost']"
   ]
  },
  {
   "cell_type": "code",
   "execution_count": 232,
   "id": "83b68a46",
   "metadata": {},
   "outputs": [],
   "source": [
    "X_train,X_test,y_train,y_test=train_test_split(x,y,test_size=0.3,random_state=0)"
   ]
  },
  {
   "cell_type": "code",
   "execution_count": 233,
   "id": "5929f111",
   "metadata": {},
   "outputs": [],
   "source": [
    "lm=LinearRegression()"
   ]
  },
  {
   "cell_type": "code",
   "execution_count": 234,
   "id": "3844a094",
   "metadata": {},
   "outputs": [
    {
     "data": {
      "text/plain": [
       "LinearRegression()"
      ]
     },
     "execution_count": 234,
     "metadata": {},
     "output_type": "execute_result"
    }
   ],
   "source": [
    "lm.fit(X_train, y_train)"
   ]
  },
  {
   "cell_type": "code",
   "execution_count": 235,
   "id": "35d07a42",
   "metadata": {},
   "outputs": [
    {
     "data": {
      "text/plain": [
       "array([99.7425758 , 99.83490898, 99.20646019, ..., 99.30281877,\n",
       "       99.14539337, 99.54541307])"
      ]
     },
     "execution_count": 235,
     "metadata": {},
     "output_type": "execute_result"
    }
   ],
   "source": [
    "pred=lm.predict(X_test)\n",
    "pred"
   ]
  },
  {
   "cell_type": "code",
   "execution_count": 236,
   "id": "13783cba",
   "metadata": {},
   "outputs": [
    {
     "data": {
      "text/plain": [
       "array([99.17027828])"
      ]
     },
     "execution_count": 236,
     "metadata": {},
     "output_type": "execute_result"
    }
   ],
   "source": [
    "lm.predict([[19.7,17.7,1,0]])##19.7\t17.7\t1\t0"
   ]
  },
  {
   "cell_type": "code",
   "execution_count": 237,
   "id": "a2d2d6e0",
   "metadata": {},
   "outputs": [],
   "source": [
    "from sklearn.metrics import mean_absolute_error ,mean_squared_error,r2_score"
   ]
  },
  {
   "cell_type": "code",
   "execution_count": 221,
   "id": "c824c7d0",
   "metadata": {},
   "outputs": [
    {
     "name": "stdout",
     "output_type": "stream",
     "text": [
      "26.060408194741687\n"
     ]
    }
   ],
   "source": [
    "print(mean_absolute_error(y_test,pred))"
   ]
  },
  {
   "cell_type": "code",
   "execution_count": 223,
   "id": "5bee0f3a",
   "metadata": {},
   "outputs": [
    {
     "data": {
      "text/plain": [
       "-0.00032336240471830813"
      ]
     },
     "execution_count": 223,
     "metadata": {},
     "output_type": "execute_result"
    }
   ],
   "source": [
    "lm.score(X_test,y_test)"
   ]
  },
  {
   "cell_type": "code",
   "execution_count": 224,
   "id": "836b8ef9",
   "metadata": {},
   "outputs": [
    {
     "data": {
      "text/plain": [
       "-0.00032336240471830813"
      ]
     },
     "execution_count": 224,
     "metadata": {},
     "output_type": "execute_result"
    }
   ],
   "source": [
    "r2_score(y_test,pred)"
   ]
  }
 ],
 "metadata": {
  "kernelspec": {
   "display_name": "Python 3 (ipykernel)",
   "language": "python",
   "name": "python3"
  },
  "language_info": {
   "codemirror_mode": {
    "name": "ipython",
    "version": 3
   },
   "file_extension": ".py",
   "mimetype": "text/x-python",
   "name": "python",
   "nbconvert_exporter": "python",
   "pygments_lexer": "ipython3",
   "version": "3.9.7"
  }
 },
 "nbformat": 4,
 "nbformat_minor": 5
}
